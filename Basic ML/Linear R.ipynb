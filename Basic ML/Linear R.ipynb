{
 "cells": [
  {
   "cell_type": "markdown",
   "id": "91102a61",
   "metadata": {},
   "source": [
    "# Linear Regression"
   ]
  },
  {
   "cell_type": "markdown",
   "id": "b0017f99",
   "metadata": {},
   "source": [
    "## Simple Linera regression\n",
    "\n",
    "$$\\hat{y} = w_0 + w_1\\times x$$\n",
    "\n",
    "where $w_0$ (y-intercept or bias) and $w_1$ (slope, or weight) are coefficient parameters, and $\\hat{y}$ is the predicted response variable based on the predictor variable $x$."
   ]
  },
  {
   "cell_type": "markdown",
   "id": "36ddafae",
   "metadata": {},
   "source": [
    "### Estimate\n",
    "\n",
    "**sum of square error**:\n",
    "\n",
    "$$E = \\sum_{i=1}^{n} ( y_i - (w_0 + w_1\\times x_i))^2$$\n",
    "\n",
    "In the scikit-learn's LinearRegression class, it is using the  Ordinary Least Squares method, which to minimize the sum of the squared residuals between the observed and predicted values. \n",
    "\n",
    "It uses a closed-form solution to directly calculate the optimal values for the coefficients without an iterative process.The closed-form solution for estimating the coefficients in the OLS method is:\n",
    "\n",
    "$$β = (X^T * X)^(-1) * X^T * y$$\n",
    "\n",
    "\n",
    "**Mean Absolute Error (MAE)**:\n",
    "$$\\begin{equation} MAE = \\frac{\\sum_{i=1}^{n} \\lvert( y_i - \\hat{y}_i)\\rvert }{n} \\end{equation}$$\n",
    "\n",
    "\n",
    "**Root Mean Square Error (RMSE)**\n",
    "$$\\begin{equation} RMSE = \\sqrt{\\frac{\\sum_{i=1}^{n} ( y_i - \\hat{y}_i)^2 }{n}} \\end{equation}$$\n",
    "\n",
    "**R-squared**\n",
    "$$ \\begin{equation} R^2 = 1 - \\frac{\\sum_{i=1}^{n} ( y_i - \\hat{y}_i)^2 }{\\sum_{i=1}^{n} (y_i- \\bar y)^2} \\end{equation}$$\n"
   ]
  },
  {
   "cell_type": "markdown",
   "id": "728cc901",
   "metadata": {},
   "source": [
    "## Multiple Linear Regression "
   ]
  },
  {
   "cell_type": "markdown",
   "id": "bcec94c9",
   "metadata": {},
   "source": [
    "$$\\hat{y} = w_0 + w_1\\times x_1 + w_2 \\times x_2 ... + w_n \\times x_n$$"
   ]
  },
  {
   "cell_type": "code",
   "execution_count": 14,
   "id": "55587c56",
   "metadata": {},
   "outputs": [],
   "source": [
    "# import and prepare\n",
    "import pandas as pd\n",
    "import numpy as np\n",
    "from sklearn.linear_model import LinearRegression\n",
    "from sklearn.metrics import mean_squared_error\n",
    "\n",
    "data=pd.read_csv('../Poll_result.csv')\n",
    "\n",
    "# create linear regression model\n",
    "lr_model = LinearRegression()\n",
    "\n",
    "# set training set\n",
    "x = data['Q1'].values.reshape(-1, 1)\n",
    "y = data['Q5Average'].values.reshape(-1, 1)\n",
    "\n",
    "# train \n",
    "lr_model.fit(x,y)\n",
    "\n",
    "# y_predict\n",
    "y_predi = lr_model.predict(x)\n",
    "\n",
    "# Calculate RMSE\n",
    "rmse = np.sqrt(mean_squared_error(y, y_pred))"
   ]
  },
  {
   "cell_type": "code",
   "execution_count": 15,
   "id": "ed584cce",
   "metadata": {},
   "outputs": [
    {
     "data": {
      "text/plain": [
       "array([[2.26686404],\n",
       "       [2.03930874],\n",
       "       [2.26686404],\n",
       "       ...,\n",
       "       [2.11516051],\n",
       "       [2.11516051],\n",
       "       [2.11516051]])"
      ]
     },
     "execution_count": 15,
     "metadata": {},
     "output_type": "execute_result"
    }
   ],
   "source": [
    "y_predi"
   ]
  },
  {
   "cell_type": "code",
   "execution_count": 16,
   "id": "5d76fda1",
   "metadata": {},
   "outputs": [
    {
     "data": {
      "text/plain": [
       "0.6125387763554059"
      ]
     },
     "execution_count": 16,
     "metadata": {},
     "output_type": "execute_result"
    }
   ],
   "source": [
    "rmse"
   ]
  },
  {
   "cell_type": "code",
   "execution_count": 17,
   "id": "1b8036c0",
   "metadata": {
    "scrolled": true
   },
   "outputs": [],
   "source": [
    "x1 = data['Q7Average'].values.reshape(-1, 1)\n",
    "x2 = data['Q5Average'].values.reshape(-1, 1)\n",
    "y = data['Q1'].values.reshape(-1, 1)\n",
    "\n",
    "# Create linear regression model\n",
    "lr_model = LinearRegression()\n",
    "\n",
    "# Concatenate the input variables\n",
    "X = np.concatenate((x1, x2), axis=1)\n",
    "\n",
    "# Train the model\n",
    "lr_model.fit(X, y)\n",
    "\n",
    "# Predict y values\n",
    "y_pred = lr_model.predict(X)"
   ]
  },
  {
   "cell_type": "code",
   "execution_count": 12,
   "id": "0d45a842",
   "metadata": {},
   "outputs": [
    {
     "data": {
      "text/plain": [
       "array([[3.1085424 ],\n",
       "       [2.66962693],\n",
       "       [2.66962693],\n",
       "       ...,\n",
       "       [2.66962693],\n",
       "       [2.62634354],\n",
       "       [2.62634354]])"
      ]
     },
     "execution_count": 12,
     "metadata": {},
     "output_type": "execute_result"
    }
   ],
   "source": [
    "y_pred"
   ]
  }
 ],
 "metadata": {
  "kernelspec": {
   "display_name": "Python 3 (ipykernel)",
   "language": "python",
   "name": "python3"
  },
  "language_info": {
   "codemirror_mode": {
    "name": "ipython",
    "version": 3
   },
   "file_extension": ".py",
   "mimetype": "text/x-python",
   "name": "python",
   "nbconvert_exporter": "python",
   "pygments_lexer": "ipython3",
   "version": "3.9.12"
  }
 },
 "nbformat": 4,
 "nbformat_minor": 5
}
